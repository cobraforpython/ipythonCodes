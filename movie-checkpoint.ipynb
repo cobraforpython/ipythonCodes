{
 "cells": [
  {
   "cell_type": "code",
   "execution_count": 1,
   "metadata": {
    "collapsed": true
   },
   "outputs": [],
   "source": [
    "from pandas import Series, DataFrame\n",
    "import pandas as pd\n",
    "import numpy as np\n",
    "\n",
    "\n",
    "users_frame = DataFrame(pd.read_csv('/users/anujsheth/desktop/users.csv'))\n",
    "ratings_frame = DataFrame(pd.read_csv('/users/anujsheth/desktop/ratings.csv'))\n",
    "movies_frame = DataFrame(pd.read_csv('/users/anujsheth/desktop/movies.csv', encoding='latin-1'))"
   ]
  },
  {
   "cell_type": "code",
   "execution_count": 3,
   "metadata": {
    "collapsed": false
   },
   "outputs": [],
   "source": [
    "import matplotlib.pyplot as plt\n",
    "values = [pd.value_counts(movies_frame[\"Genre\"].str.contains(\"Action\"))[True],\n",
    "pd.value_counts(movies_frame[\"Genre\"].str.contains(\"Adventure\"))[True],\n",
    "pd.value_counts(movies_frame[\"Genre\"].str.contains(\"Animation\"))[True],\n",
    "pd.value_counts(movies_frame[\"Genre\"].str.contains(\"Children\"))[True],\n",
    "pd.value_counts(movies_frame[\"Genre\"].str.contains(\"Comedy\"))[True],\n",
    "pd.value_counts(movies_frame[\"Genre\"].str.contains(\"Crime\"))[True],\n",
    "pd.value_counts(movies_frame[\"Genre\"].str.contains(\"Documentary\"))[True],\n",
    "pd.value_counts(movies_frame[\"Genre\"].str.contains(\"Drama\"))[True],\n",
    "pd.value_counts(movies_frame[\"Genre\"].str.contains(\"Fantasy\"))[True],\n",
    "pd.value_counts(movies_frame[\"Genre\"].str.contains(\"Film-Noir\"))[True],\n",
    "pd.value_counts(movies_frame[\"Genre\"].str.contains(\"Horror\"))[True],\n",
    "pd.value_counts(movies_frame[\"Genre\"].str.contains(\"Musical\"))[True],\n",
    "pd.value_counts(movies_frame[\"Genre\"].str.contains(\"Mystery\"))[True],\n",
    "pd.value_counts(movies_frame[\"Genre\"].str.contains(\"Romance\"))[True],\n",
    "pd.value_counts(movies_frame[\"Genre\"].str.contains(\"Sci-Fi\"))[True],\n",
    "pd.value_counts(movies_frame[\"Genre\"].str.contains(\"Thriller\"))[True],\n",
    "pd.value_counts(movies_frame[\"Genre\"].str.contains(\"War\"))[True],\n",
    "pd.value_counts(movies_frame[\"Genre\"].str.contains(\"Western\"))[True]]\n",
    "\n",
    "\n",
    "genres = ['Action','Adventure','Animation',\"Children's\",'Comedy','Crime',\n",
    "                      'Documentary','Drama','Fantasy','Film-Noir','Horror','Musical',\n",
    "                      'Mystery','Romance','Sci-Fi','Thriller','War','Western']\n",
    "fig, ax = plt.subplots()\n",
    "#ax.set_xlim([0,20])\n",
    "#ax.set_ylim([0,2000])\n",
    "#ax.set_ylim([0,2000])\n",
    "\n",
    "plt.plot(range(1,19), values, 'r^-')\n",
    "\n",
    "#plt.bar(range(18), values,\n",
    "       #width = 10, color = 'b', align = 'center')\n",
    "#plt.xticks(range(18), ('Action','Adventure','Animation',\"Children's\",'Comedy','Crime',\n",
    "                      #'Documentary','Drama','Fantasy','Film-Noir','Horror','Musical',\n",
    "                      #'Mystery','Romance','Sci-Fi','Thriller','War','Western'))\n",
    "ax.set_ylabel('Count')\n",
    "\n",
    "plt.title('Distribution as per Genres')\n",
    "\n",
    "\n",
    "\n",
    "for i, txt in enumerate(genres):\n",
    "    ax.annotate(txt, (i,values[i]))\n",
    " \n",
    "    \n",
    "#plt.annotate(xy=[], s='Critical Point')\n",
    "#plt.legend(['Under 18','18-24','25-34','35-44','45-49','50-55','56+'],loc='upper left')\n",
    "\n",
    "plt.show()"
   ]
  },
  {
   "cell_type": "code",
   "execution_count": 9,
   "metadata": {
    "collapsed": true
   },
   "outputs": [],
   "source": [
    "import matplotlib.pyplot as plt\n",
    "values = [pd.value_counts(users_frame['Age-Group'] == 1)[True], pd.value_counts(users_frame['Age-Group'] == 18)[True],\n",
    "pd.value_counts(users_frame['Age-Group'] == 25)[True],pd.value_counts(users_frame['Age-Group'] == 35)[True]\n",
    ",pd.value_counts(users_frame['Age-Group'] == 45)[True],pd.value_counts(users_frame['Age-Group'] == 50)[True],\n",
    "pd.value_counts(users_frame['Age-Group'] == 56)[True]]\n",
    "widths = [0.6, 0.6, 0.6, 0.6, 0.6, 0.6]\n",
    "colors = ['b', 'r', 'm', 'y', 'g', 'c', '#F4C2C2']\n",
    "\n",
    "fig, ax = plt.subplots()\n",
    "#ax.set_xlim([0,2000])\n",
    "ax.set_ylim([0,2500])\n",
    "plt.bar(range(7), values,\n",
    "       width = 0.6, color = colors, align = 'center')\n",
    "plt.xticks(range(7), ('Under 18','18-24','25-34','35-44',\n",
    "                      '45-49','50-55','56+'))\n",
    "ax.set_ylabel('Number')\n",
    "\n",
    "plt.title('Reviews - Age Group')\n",
    "#plt.legend(['Under 18','18-24','25-34','35-44','45-49','50-55','56+'],loc='upper left')\n",
    "\n",
    "plt.show()"
   ]
  },
  {
   "cell_type": "code",
   "execution_count": null,
   "metadata": {
    "collapsed": false
   },
   "outputs": [],
   "source": [
    "from pandas import Series, DataFrame\n",
    "import pandas as pd\n",
    "import numpy as np\n",
    "\n",
    "#ratings_frame[\"MovieID\"], ratings_frame[\"Rating\"]\n",
    "#print(a,b)\n",
    "#np.average(b)\n",
    "#p=ratings_frame[\"Rating\"].isin(pd.groupby(by = [\"MovieID\"]))\n",
    "#np.mean(ratings_frame[\"Rating\"])\n",
    "##ratings_frame.groupby([\"MovieID\"]).mean()\n",
    "\n",
    "#ID = eval(input(\"Enter the movie ID:\"))\n",
    "\n",
    "df_sub=ratings_frame[[\"MovieID\",\"Rating\"]].groupby('MovieID').mean()\n",
    "movieInp = eval(input(\"Enter a movie Id\"))\n",
    "#ratings_frame[[\"Rating\",\"MovieId\"==movieInp]]\n",
    "#x=df_sub[\"Rating\"] if ratings_frame[\"MovieId\"]==movieInp else 0\n",
    "#print(df_sub['Rating'])\n",
    "#area_dict = dict(zip(df_sub,df_sub))\n",
    "df_sub\n",
    "\n",
    "a=df_sub.ix[movieInp]\n",
    "a\n"
   ]
  },
  {
   "cell_type": "code",
   "execution_count": 5,
   "metadata": {
    "collapsed": false
   },
   "outputs": [
    {
     "name": "stdout",
     "output_type": "stream",
     "text": [
      "Enter the movie rating number: 4\n"
     ]
    }
   ],
   "source": [
    "import matplotlib.pyplot as plt\n",
    "values = [pd.value_counts(ratings_frame['Rating']==1) [True],\n",
    "          pd.value_counts(ratings_frame['Rating']==2) [True],\n",
    "pd.value_counts(ratings_frame['Rating']==3) [True],\n",
    "pd.value_counts(ratings_frame['Rating']==4) [True],\n",
    "pd.value_counts(ratings_frame['Rating']==5) [True]]\n",
    "\n",
    "colors = ['b', 'y', 'm', 'r', 'g']\n",
    "labels =  ['1', '2', '3', '4', '5']\n",
    "\n",
    "input1 = eval(input(\"Enter the movie rating number: \"))\n",
    "\n",
    "if input1 == 1 :\n",
    "    explode = (0.3, 0, 0, 0,0)\n",
    "elif input1 == 2 :\n",
    "    explode = (0, 0.3, 0, 0,0)\n",
    "elif input1 == 3 :\n",
    "    explode = (0, 0,0.3, 0,0)\n",
    "elif input1 == 4 :\n",
    "    explode = (0, 0, 0, 0.3,0)\n",
    "elif input1 == 5 :\n",
    "    explode = (0, 0, 0, 0,0.3)\n",
    "else :\n",
    "    print(\"Enter a valid value!\")\n",
    "\n",
    "plt.pie(values, colors=colors, labels=labels, \n",
    "        explode=explode, autopct='%.1f%%',\n",
    "        counterclock=False, shadow=True)\n",
    "plt.title('Movie Ratings Percentage')\n",
    "\n",
    "plt.show()\n",
    "\n"
   ]
  },
  {
   "cell_type": "code",
   "execution_count": 8,
   "metadata": {
    "collapsed": false
   },
   "outputs": [],
   "source": [
    "import matplotlib.pyplot as plt\n",
    "import pandas as pd\n",
    "\n",
    "values = [pd.value_counts(movies_frame[\"Genre\"].str.contains(\"Action\"))[True],\n",
    "pd.value_counts(movies_frame[\"Genre\"].str.contains(\"Adventure\"))[True],\n",
    "pd.value_counts(movies_frame[\"Genre\"].str.contains(\"Animation\"))[True],\n",
    "pd.value_counts(movies_frame[\"Genre\"].str.contains(\"Children\"))[True],\n",
    "pd.value_counts(movies_frame[\"Genre\"].str.contains(\"Comedy\"))[True],\n",
    "pd.value_counts(movies_frame[\"Genre\"].str.contains(\"Crime\"))[True],\n",
    "pd.value_counts(movies_frame[\"Genre\"].str.contains(\"Documentary\"))[True],\n",
    "pd.value_counts(movies_frame[\"Genre\"].str.contains(\"Drama\"))[True],\n",
    "pd.value_counts(movies_frame[\"Genre\"].str.contains(\"Fantasy\"))[True],\n",
    "pd.value_counts(movies_frame[\"Genre\"].str.contains(\"Film-Noir\"))[True],\n",
    "pd.value_counts(movies_frame[\"Genre\"].str.contains(\"Horror\"))[True],\n",
    "pd.value_counts(movies_frame[\"Genre\"].str.contains(\"Musical\"))[True],\n",
    "pd.value_counts(movies_frame[\"Genre\"].str.contains(\"Mystery\"))[True],\n",
    "pd.value_counts(movies_frame[\"Genre\"].str.contains(\"Romance\"))[True],\n",
    "pd.value_counts(movies_frame[\"Genre\"].str.contains(\"Sci-Fi\"))[True],\n",
    "pd.value_counts(movies_frame[\"Genre\"].str.contains(\"Thriller\"))[True],\n",
    "pd.value_counts(movies_frame[\"Genre\"].str.contains(\"War\"))[True],\n",
    "pd.value_counts(movies_frame[\"Genre\"].str.contains(\"Western\"))[True]]\n",
    "                      \n",
    "#x = np.concatenate((x1,x2,x3,x4,x5,x6,x7,x8,x9,x10,x11,x12,x13,x14,x15,x16,x17,x18))\n",
    "\n",
    "values2 = [pd.value_counts(users_frame['Age-Group'] == 1)[True], pd.value_counts(users_frame['Age-Group'] == 18)[True],\n",
    "pd.value_counts(users_frame['Age-Group'] == 25)[True],pd.value_counts(users_frame['Age-Group'] == 35)[True]\n",
    ",pd.value_counts(users_frame['Age-Group'] == 45)[True],pd.value_counts(users_frame['Age-Group'] == 50)[True],\n",
    "pd.value_counts(users_frame['Age-Group'] == 56)[True]]\n",
    "fig, ax = plt.subplots()\n",
    "ax.set_xlim([0,20])\n",
    "import matplotlib.pyplot as plt\n",
    "plt.plot(range(1,19), values, 'ro-')\n",
    "plt.plot(range(1,8), values2, 'b^-.')\n",
    "plt.legend(['Genre', 'Age-Group'], loc = 'upper right')\n",
    "plt.show()"
   ]
  },
  {
   "cell_type": "code",
   "execution_count": null,
   "metadata": {
    "collapsed": true
   },
   "outputs": [],
   "source": []
  }
 ],
 "metadata": {
  "kernelspec": {
   "display_name": "Python 3",
   "language": "python",
   "name": "python3"
  },
  "language_info": {
   "codemirror_mode": {
    "name": "ipython",
    "version": 3
   },
   "file_extension": ".py",
   "mimetype": "text/x-python",
   "name": "python",
   "nbconvert_exporter": "python",
   "pygments_lexer": "ipython3",
   "version": "3.5.1"
  }
 },
 "nbformat": 4,
 "nbformat_minor": 0
}
