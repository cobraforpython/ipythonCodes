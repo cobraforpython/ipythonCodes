{
 "cells": [
  {
   "cell_type": "code",
   "execution_count": 25,
   "metadata": {
    "collapsed": false
   },
   "outputs": [],
   "source": [
    "from pandas import Series, DataFrame\n",
    "import pandas as pd\n",
    "import numpy as np\n",
    "\n",
    "# import the csv files into dataframes\n",
    "users_frame = DataFrame(pd.read_csv('users.csv'))\n",
    "ratings_frame = DataFrame(pd.read_csv('ratings.csv'))\n",
    "movies_frame = DataFrame(pd.read_csv('movies.csv', encoding='latin-1'))"
   ]
  },
  {
   "cell_type": "code",
   "execution_count": 26,
   "metadata": {
    "collapsed": true
   },
   "outputs": [],
   "source": [
    "# get the genre:count or age_group:count \n",
    "def getStatsGroup(column, value):\n",
    "    genderGrpUsers = users_frame[users_frame[column]== value]\n",
    "    movieRating = ratings_frame[ratings_frame[\"UserID\"].isin(genderGrpUsers[\"UserID\"])]\n",
    "    movieFrameGender = movies_frame[movies_frame[\"MovieID\"].isin(movieRating[\"MovieID\"])]\n",
    "    genderGenres = movieFrameGender[\"Genre\"]\n",
    "    genderGenre_set = set()    \n",
    "    for row_genre in genderGenres:\n",
    "        for genre in row_genre.split(\"|\"):\n",
    "            genderGenre_set.add(genre)\n",
    "    genre_count = {} # dict to store genre:movie_count_watched\n",
    "    for genre in genderGenre_set:\n",
    "        count = pd.value_counts(genderGenres.str.contains(genre))[True]\n",
    "        genre_count[genre] = count\n",
    "        \n",
    "    gender_genre_frame = DataFrame.from_dict(genre_count, orient='index')\n",
    "    \n",
    "    return gender_genre_frame"
   ]
  },
  {
   "cell_type": "code",
   "execution_count": 44,
   "metadata": {
    "collapsed": false,
    "scrolled": true
   },
   "outputs": [],
   "source": [
    "def getFavGenre(UserID, topN):\n",
    "    # get ratings of the specified user\n",
    "    user_ratings = ratings_frame[ratings_frame[\"UserID\"] == UserID]\n",
    "    # get the user's gender and his/her age group\n",
    "    user_gender = users_frame[users_frame[\"UserID\"] == UserID][\"Gender\"].values[0]\n",
    "    user_age_group = users_frame[users_frame[\"UserID\"] == UserID][\"Age-Group\"].values[0]\n",
    "    \n",
    "    # get genres of the user's watched movies\n",
    "    genre_movie = movies_frame[movies_frame[\"MovieID\"].isin(user_ratings[\"MovieID\"])]\n",
    "\n",
    "    genre_all = genre_movie[\"Genre\"] \n",
    "    # to get all the fav genre of the user (unique)\n",
    "    genre_set = set()    \n",
    "    for row_genre in genre_all:\n",
    "        for genre in row_genre.split(\"|\"):\n",
    "            genre_set.add(genre)\n",
    "    \n",
    "    \n",
    "    # count no. of movies watched by the user to get his/her fav genre \n",
    "    genre_count = {} # dict to store genre:movie_count_watched\n",
    "    for genre in genre_set:\n",
    "        count = pd.value_counts(genre_all.str.contains(genre))[True]\n",
    "        genre_count[genre] = count\n",
    "    # convert genre_count from dict to fram\n",
    "    genre_count_frame = DataFrame.from_dict(genre_count, orient='index')\n",
    "    # get the wt. avg \n",
    "    # 60% for genre\n",
    "    updateDictValues(genre_count_frame, 0.60)\n",
    "    # 25% for genre\n",
    "    gender_count_frame = getStatsGroup(\"Gender\", user_gender)\n",
    "    updateDictValues(gender_count_frame, 0.25)\n",
    "    # 15% for age-group\n",
    "    age_group_count_frame = getStatsGroup(\"Age-Group\", user_age_group)\n",
    "    updateDictValues(age_group_count_frame, 0.15)\n",
    "    \n",
    "    all_genre_frame = genre_count_frame.add(gender_count_frame, fill_value = 0).add(age_group_count_frame,\n",
    "                                                                                           fill_value = 0)\n",
    "    top_genres = getTopN(all_genre_frame, 3, 0)\n",
    "    \n",
    "    return sorted(genre_count.items(), key=lambda x: x[1])[:topN] #top_genres.index.values\n",
    "#sorted(genre_count.items(), key=lambda x: x[1])[:topN]\n",
    "    \n",
    "    \n",
    "\n",
    "      "
   ]
  },
  {
   "cell_type": "code",
   "execution_count": 47,
   "metadata": {
    "collapsed": true
   },
   "outputs": [],
   "source": [
    "def weightedAvg(a):\n",
    "    weightAvgGenre={}\n",
    "    maxVal = max(a.values())\n",
    "    for val in a.keys():  \n",
    "        weightAvgGenre[val] = a[val]/maxVal\n",
    "    return weightAvgGenre"
   ]
  },
  {
   "cell_type": "code",
   "execution_count": 48,
   "metadata": {
    "collapsed": true
   },
   "outputs": [],
   "source": [
    "def weightAvgRating(frame, average_rating):\n",
    "    max_rating = max(frame[\"Rating\"])\n",
    "    average_rating.ix[1][0] = average_rating.ix[1][0]/max_rating\n",
    "    return average_rating"
   ]
  },
  {
   "cell_type": "code",
   "execution_count": 42,
   "metadata": {
    "collapsed": false,
    "scrolled": true
   },
   "outputs": [],
   "source": [
    "def calcRecommendationParams(UserID, genre_count = 3):\n",
    "    fav_genre = getFavGenre(UserID, genre_count)\n",
    "    genre = set()\n",
    "    for i in fav_genre:\n",
    "        genre.add(i[0])\n",
    "\n",
    "    # check the complete dataset where users fav genre matches\n",
    "    movie_genre_wt_dict = {}    \n",
    "    for i in range(len(movies_frame.index)):\n",
    "        movie_id = movies_frame.ix[i][\"MovieID\"]\n",
    "        movie_genre = set(movies_frame.ix[i][\"Genre\"].split(\"|\"))\n",
    "        movie_genre_wt_dict[movie_id] = len(movie_genre & genre)\n",
    "\n",
    "    # get the wt.average of movie_genre_wt_dict\n",
    "    movie_genre_wt_dict = weightedAvg(movie_genre_wt_dict)\n",
    "    \n",
    "    \n",
    "    #STEP 2a. calculate the average rating per movie. \n",
    "    ratings_data = ratings_frame[[\"MovieID\", \"Rating\"]].groupby('MovieID')\n",
    "    average_rating = ratings_data.mean()\n",
    "    # get the wt.average of average_rating\n",
    "    popularity_ratings_count = ratings_data.count()\n",
    "    popularity_ratings_wt_avg = weightAvgRating(popularity_ratings_count, average_rating)\n",
    "    \n",
    "    return movie_genre_wt_dict, average_rating, popularity_ratings_wt_avg"
   ]
  },
  {
   "cell_type": "code",
   "execution_count": 31,
   "metadata": {
    "collapsed": true
   },
   "outputs": [],
   "source": [
    "def updateDictValues(dictionary, factor):\n",
    "    dictionary.update({n: factor * dictionary[n] for n in dictionary.keys()})"
   ]
  },
  {
   "cell_type": "code",
   "execution_count": 32,
   "metadata": {
    "collapsed": false
   },
   "outputs": [],
   "source": [
    "# this function returns the final movie data frame\n",
    "def calcRecommendation(userId):\n",
    "    # get all the required parameters\n",
    "    movie_genre_wt_dict, average_rating, popularity_ratings_wt_avg = calcRecommendationParams(userId)\n",
    "    # apply the formula to get top 10 recommended movies\n",
    "    #STEP 5a.   recommendationScore = (MovieGenreScore*.6) + (AveRatingScore*.25)+(PopularityScore*.15)\n",
    "    #step 5.1 : get weitage of 60% for movie genre and convert the output into data frame from dict\n",
    "    updateDictValues(movie_genre_wt_dict, 0.6)\n",
    "    movie_genre_frame = DataFrame.from_dict(movie_genre_wt_dict, orient='index')\n",
    "    #step 5.1 : get weitage of 25% for average rating\n",
    "    updateDictValues(average_rating, 0.25)\n",
    "    #step 5.1 : get weitage of 25% for popularity score\n",
    "    updateDictValues(popularity_ratings_wt_avg, 0.15)\n",
    "\n",
    "    # get the final movie ratings based on addition of the above values\n",
    "    #movie_recommendation_frame = movie_genre_frame + average_rating + popularity_ratings_wt_avg\n",
    "    # to add values make the same coulmn names which are supposed to be added\n",
    "    average_rating = average_rating.rename(columns={'Rating': 'wt_avg'})\n",
    "    movie_genre_frame = movie_genre_frame.rename(columns={0: 'wt_avg'})\n",
    "    movie_recommendation_frame = movie_genre_frame.add(average_rating, fill_value = 0).add(popularity_ratings_wt_avg,\n",
    "                                                                                           fill_value = 0)\n",
    "    return movie_recommendation_frame"
   ]
  },
  {
   "cell_type": "code",
   "execution_count": 33,
   "metadata": {
    "collapsed": false
   },
   "outputs": [],
   "source": [
    "def getTopN(dataframe, topN, column):\n",
    "    return dataframe.nlargest(topN, column)"
   ]
  },
  {
   "cell_type": "code",
   "execution_count": 34,
   "metadata": {
    "collapsed": true
   },
   "outputs": [],
   "source": [
    "def getBestRecommendation(userId):\n",
    "    movie_recommendation_frame = calcRecommendation(userId)\n",
    "    best_recommendation = getTopN(movie_recommendation_frame, 10, \"wt_avg\")\n",
    "    best_recommendation_movies = best_recommendation.join(movies_frame)\n",
    "    return best_recommendation_movies[[\"Title\", \"Released on\", \"Genre\"]]"
   ]
  },
  {
   "cell_type": "code",
   "execution_count": 49,
   "metadata": {
    "collapsed": false,
    "scrolled": false
   },
   "outputs": [
    {
     "data": {
      "text/html": [
       "<div>\n",
       "<table border=\"1\" class=\"dataframe\">\n",
       "  <thead>\n",
       "    <tr style=\"text-align: right;\">\n",
       "      <th></th>\n",
       "      <th>Title</th>\n",
       "      <th>Released on</th>\n",
       "      <th>Genre</th>\n",
       "    </tr>\n",
       "  </thead>\n",
       "  <tbody>\n",
       "    <tr>\n",
       "      <th>578</th>\n",
       "      <td>Metisse (Café au Lait)</td>\n",
       "      <td>1993</td>\n",
       "      <td>Comedy</td>\n",
       "    </tr>\n",
       "    <tr>\n",
       "      <th>3730</th>\n",
       "      <td>Criminal Lovers (Les Amants Criminels)</td>\n",
       "      <td>1999</td>\n",
       "      <td>Drama|Romance</td>\n",
       "    </tr>\n",
       "    <tr>\n",
       "      <th>3801</th>\n",
       "      <td>Suddenly: Last Summer</td>\n",
       "      <td>1959</td>\n",
       "      <td>Drama</td>\n",
       "    </tr>\n",
       "    <tr>\n",
       "      <th>1950</th>\n",
       "      <td>Dangerous Liaisons</td>\n",
       "      <td>1988</td>\n",
       "      <td>Drama|Romance</td>\n",
       "    </tr>\n",
       "    <tr>\n",
       "      <th>800</th>\n",
       "      <td>Kazaam</td>\n",
       "      <td>1996</td>\n",
       "      <td>Childrens|Comedy|Fantasy</td>\n",
       "    </tr>\n",
       "    <tr>\n",
       "      <th>924</th>\n",
       "      <td>Ninotchka</td>\n",
       "      <td>1939</td>\n",
       "      <td>Comedy|Romance</td>\n",
       "    </tr>\n",
       "    <tr>\n",
       "      <th>1264</th>\n",
       "      <td>Big Sleep: The</td>\n",
       "      <td>1946</td>\n",
       "      <td>Film-Noir|Mystery</td>\n",
       "    </tr>\n",
       "    <tr>\n",
       "      <th>2686</th>\n",
       "      <td>Wanted: Dead or Alive</td>\n",
       "      <td>1987</td>\n",
       "      <td>Action</td>\n",
       "    </tr>\n",
       "    <tr>\n",
       "      <th>2810</th>\n",
       "      <td>Operation Condor 2 (Longxiong hudi)</td>\n",
       "      <td>1990</td>\n",
       "      <td>Action|Adventure|Comedy</td>\n",
       "    </tr>\n",
       "    <tr>\n",
       "      <th>123</th>\n",
       "      <td>Flirting With Disaster</td>\n",
       "      <td>1996</td>\n",
       "      <td>Comedy</td>\n",
       "    </tr>\n",
       "  </tbody>\n",
       "</table>\n",
       "</div>"
      ],
      "text/plain": [
       "                                        Title  Released on  \\\n",
       "578                   Metisse (Café au Lait)          1993   \n",
       "3730  Criminal Lovers (Les Amants Criminels)          1999   \n",
       "3801                   Suddenly: Last Summer          1959   \n",
       "1950                      Dangerous Liaisons          1988   \n",
       "800                                   Kazaam          1996   \n",
       "924                                Ninotchka          1939   \n",
       "1264                          Big Sleep: The          1946   \n",
       "2686                   Wanted: Dead or Alive          1987   \n",
       "2810     Operation Condor 2 (Longxiong hudi)          1990   \n",
       "123                   Flirting With Disaster          1996   \n",
       "\n",
       "                         Genre  \n",
       "578                     Comedy  \n",
       "3730             Drama|Romance  \n",
       "3801                     Drama  \n",
       "1950             Drama|Romance  \n",
       "800   Childrens|Comedy|Fantasy  \n",
       "924             Comedy|Romance  \n",
       "1264         Film-Noir|Mystery  \n",
       "2686                    Action  \n",
       "2810   Action|Adventure|Comedy  \n",
       "123                     Comedy  "
      ]
     },
     "execution_count": 49,
     "metadata": {},
     "output_type": "execute_result"
    }
   ],
   "source": [
    "best_recommendated_movies = getBestRecommendation(9999)\n",
    "best_recommendated_movies"
   ]
  },
  {
   "cell_type": "code",
   "execution_count": null,
   "metadata": {
    "collapsed": true
   },
   "outputs": [],
   "source": []
  }
 ],
 "metadata": {
  "kernelspec": {
   "display_name": "Python 3",
   "language": "python",
   "name": "python3"
  },
  "language_info": {
   "codemirror_mode": {
    "name": "ipython",
    "version": 3
   },
   "file_extension": ".py",
   "mimetype": "text/x-python",
   "name": "python",
   "nbconvert_exporter": "python",
   "pygments_lexer": "ipython3",
   "version": "3.5.1"
  }
 },
 "nbformat": 4,
 "nbformat_minor": 0
}
